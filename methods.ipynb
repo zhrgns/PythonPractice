{
 "cells": [
  {
   "cell_type": "code",
   "execution_count": null,
   "metadata": {},
   "outputs": [],
   "source": [
    "# 1 find longest word in a list\n",
    "def longest_word(lst):\n",
    "    longest_item = \"\"\n",
    "    check_length = 1\n",
    "    for i in lst:\n",
    "        if(len(i) > check_length):\n",
    "            check_length = len(i)\n",
    "            longest_item = i\n",
    "    return longest_item\n"
   ]
  },
  {
   "cell_type": "code",
   "execution_count": null,
   "metadata": {},
   "outputs": [],
   "source": [
    "# 2 find and make a list with the same items in given lists\n",
    "\n",
    "def check_same_items(lst1, lst2):\n",
    "    list_of_sames = []\n",
    "    for i in lst2:\n",
    "        if i in lst1 and i not in list_of_sames:\n",
    "            list_of_sames.append(i)\n",
    "    return list_of_sames\n"
   ]
  },
  {
   "cell_type": "code",
   "execution_count": null,
   "metadata": {},
   "outputs": [],
   "source": [
    "# 3 Shuffle a given list\n",
    "\n",
    "import random\n",
    "\n",
    "\n",
    "def shuffle_my_list(shuffled_list):\n",
    "    n = len(shuffled_list)\n",
    "\n",
    "    for i in range(n):\n",
    "        j = random.randint(0, n)\n",
    "        item = shuffled_list.pop(j)\n",
    "        shuffled_list.append(item)\n",
    "    return shuffled_list\n"
   ]
  },
  {
   "cell_type": "code",
   "execution_count": null,
   "metadata": {},
   "outputs": [],
   "source": [
    "# 4 return the middle 3 characters of a given text\n",
    "\n",
    "def middle_three_char(input_str):\n",
    "    if len(input_str) > 2:\n",
    "        if len(input_str) % 2 == 1:\n",
    "            chr_index = (len(input_str)//2)\n",
    "            middle_chr = input_str[chr_index-1:chr_index+2]\n",
    "            return middle_chr\n",
    "        else:\n",
    "            return \"Please enter a string with odd length!\"\n",
    "    else:\n",
    "        return \"Length of the given string should be greater than 3!\"\n"
   ]
  },
  {
   "cell_type": "code",
   "execution_count": null,
   "metadata": {},
   "outputs": [],
   "source": [
    "# 5 reverse a string type in a string type\n",
    "\n",
    "def reverse_string(input_str):\n",
    "    # first step: reversed string \n",
    "    reversed_string = \"\"\n",
    "    for i in input_str:\n",
    "        reversed_string = i + reversed_string\n",
    "    r_str_list = reversed_string.split(\" \")\n",
    "\n",
    "    # second step: made a re_reversed_list from reversed string \n",
    "    str_list = []\n",
    "    n =len(r_str_list)\n",
    "    for i in range(n):\n",
    "        str_list.append(r_str_list[n-i-1])\n",
    "\n",
    "    # third step: join re reversed words\n",
    "    output_str = \"\"\n",
    "    for item in str_list:\n",
    "        output_str = output_str + \" \" + item\n",
    "    return output_str"
   ]
  },
  {
   "cell_type": "code",
   "execution_count": null,
   "metadata": {},
   "outputs": [],
   "source": [
    "# 6 find same strings with a list type in given lists\n",
    "\n",
    "def check_same_item(lst1,lst2):\n",
    "    sames_list = []\n",
    "    for item1 in lst1:\n",
    "        for item2 in lst2:\n",
    "            if item1 == item2:\n",
    "                sames_list.append(item1)\n",
    "    return sames_list"
   ]
  },
  {
   "cell_type": "code",
   "execution_count": null,
   "metadata": {},
   "outputs": [],
   "source": [
    "# 7 in given string make letters upper case which have odd index\n",
    "\n",
    "def make_upper_even_cases(input_str):\n",
    "    strs = \"\"\n",
    "    \n",
    "    for i in range(0,len(input_str)):\n",
    "        if i % 2 != 0:\n",
    "            strs += input_str[i].upper()\n",
    "        else:\n",
    "            strs += input_str[i]\n",
    "    return strs"
   ]
  },
  {
   "cell_type": "code",
   "execution_count": null,
   "metadata": {},
   "outputs": [],
   "source": [
    "# 8 check if given words consist of same letters\n",
    "\n",
    "def same_letter_check(str1,str2):\n",
    "        #MADE LISTS FROM LETTERS\n",
    "        letter_list1 = list(str1)\n",
    "        letter_list2 = list(str2)\n",
    "\n",
    "        #SORT LIST 1\n",
    "        sorted_list1 = []\n",
    "        while letter_list1:\n",
    "            first_letter = letter_list1[0]\n",
    "            for item in letter_list1: \n",
    "                if item < first_letter:\n",
    "                    first_letter = item\n",
    "            sorted_list1.append(first_letter)\n",
    "            letter_list1.remove(first_letter)\n",
    "        #SORT LIST 2\n",
    "        sorted_list2 = []\n",
    "        while letter_list2:\n",
    "            first_letter = letter_list2[0]\n",
    "            for item in letter_list2: \n",
    "                if item < first_letter:\n",
    "                    first_letter = item\n",
    "            sorted_list2.append(first_letter)\n",
    "            letter_list2.remove(first_letter)\n",
    "        \n",
    "        #CHECK LISTS ARE EQUAL\n",
    "        if sorted_list1 == sorted_list2:\n",
    "            return True\n",
    "        else: return False"
   ]
  },
  {
   "cell_type": "code",
   "execution_count": null,
   "metadata": {},
   "outputs": [],
   "source": [
    "# 9 check if given word is a polindrome\n",
    "\n",
    "def find_palindromes(txt_file):\n",
    "\n",
    "    input_file = open(txt_file, \"r\")\n",
    "    list_lines = input_file.readlines()\n",
    "    total = 0\n",
    "\n",
    "    for line in list_lines:\n",
    "        upper_line = line.upper()\n",
    "        letter_list = list(upper_line.strip())\n",
    "        \n",
    "        reversed_letter_list = []\n",
    "        n =len(letter_list)\n",
    "        for i in range(n):\n",
    "            reversed_letter_list.append(letter_list[n-i-1])\n",
    "\n",
    "        if reversed_letter_list == letter_list:\n",
    "            total = total + 1\n",
    "\n",
    "    return total"
   ]
  },
  {
   "cell_type": "code",
   "execution_count": null,
   "metadata": {},
   "outputs": [],
   "source": [
    "#  10 return distinct words in given *.txt file\n",
    "\n",
    "def find_distinct_ones(txt_file):\n",
    "    input_file = open(txt_file,\"r\")\n",
    "    lines = input_file.readlines()\n",
    "\n",
    "    values=[]\n",
    "    for line in lines:\n",
    "        lists = line.strip().split()\n",
    "        values += lists\n",
    "\n",
    "    fruits= set()\n",
    "    for value in values:\n",
    "        fruits.add(value)\n",
    "\n",
    "    return fruits"
   ]
  },
  {
   "cell_type": "code",
   "execution_count": null,
   "metadata": {},
   "outputs": [],
   "source": [
    "# 11 draw graph with given *.txt file using numpy and matplotlib\n",
    "\n",
    "import matplotlib.pyplot as plt\n",
    "import numpy as np\n",
    "\n",
    "def draw_graph(txt_file):\n",
    "    # open and read file\n",
    "    input_file = open(txt_file,\"r\")\n",
    "    listed_line = input_file.readlines()\n",
    "    arr_listx= []\n",
    "    arr_listy= []\n",
    "\n",
    "    for item in listed_line:\n",
    "        info = item.split()\n",
    "        date=info[0]\n",
    "        arr_listx.append(date)\n",
    "        currency = float(info[1].replace(\",\", \".\"))\n",
    "        arr_listy.append(currency)\n",
    "\n",
    "    xpoints = np.array(arr_listx)\n",
    "    ypoints = np.array(arr_listy)\n",
    "    plt.scatter(xpoints,ypoints)\n",
    "    plt.show()"
   ]
  }
 ],
 "metadata": {
  "kernelspec": {
   "display_name": "base",
   "language": "python",
   "name": "python3"
  },
  "language_info": {
   "name": "python",
   "version": "3.9.12 (main, Apr  4 2022, 05:22:27) [MSC v.1916 64 bit (AMD64)]"
  },
  "orig_nbformat": 4,
  "vscode": {
   "interpreter": {
    "hash": "9c641a8273f311b9e0729b3df10a07cbfc2824c198db58a4b5500e1d04deb011"
   }
  }
 },
 "nbformat": 4,
 "nbformat_minor": 2
}
